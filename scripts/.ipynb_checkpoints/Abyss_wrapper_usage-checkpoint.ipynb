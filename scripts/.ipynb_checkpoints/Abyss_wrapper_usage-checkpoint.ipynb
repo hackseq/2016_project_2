{
 "cells": [
  {
   "cell_type": "code",
   "execution_count": null,
   "metadata": {
    "collapsed": true
   },
   "outputs": [],
   "source": []
  },
  {
   "cell_type": "code",
   "execution_count": null,
   "metadata": {
    "collapsed": true
   },
   "outputs": [],
   "source": [
    "#!/usr/bin/env python\n",
    "\n",
    "import sys\n",
    "import numpy as np\n",
    "import subprocess\n",
    "import scipy\n",
    "import os\n",
    "\n",
    "k = round(float(sys.argv[1]))\n",
    "k=int(k)\n",
    "read1 = sys.argv[2]\n",
    "read2 = sys.argv[3]\n",
    "\n",
    "def parse (k):\n",
    "\tos.system('mkdir k%s' %k)\n",
    "\tos.system('ln -s ../reads1.fastq ../reads2.fastq k%s/' %k)\n",
    "\tos.system('abyss-pe -j 6 -C k%s name=reads k=%s v=-v in=\"%s %s\" contigs 2>&1 | tee abyss.log' %(k,k,read1,read2))\n",
    "\ttest = int(subprocess.check_output(\"tac abyss.log | sed -n 3p | cut -f 6\",shell=True).split(\"\\n\")[0])\n",
    "\tval = np.array(float(test))\n",
    "\tprint(\"fx = {:.10e}\".format(float(val)))\n",
    "\treturn \"fx = {:.10e}\".format(float(val))\n",
    "\n",
    "parse(int(k))"
   ]
  },
  {
   "cell_type": "code",
   "execution_count": null,
   "metadata": {
    "collapsed": true
   },
   "outputs": [],
   "source": []
  },
  {
   "cell_type": "code",
   "execution_count": null,
   "metadata": {
    "collapsed": true
   },
   "outputs": [],
   "source": [
    "#!/bin/bash\n",
    "\n",
    "foo() {\n",
    "    \n",
    "    echo \"Parameter k is $1\"\n",
    "\n",
    "\n",
    "    mkdir k$1\n",
    "    abyss-pe -C k$1 name=HS0674 k=$1 in=\"/Users/gbang/Documents/hackseq/data/HS0674/30CJCAAXX_4_1.fq /Users/gbang/Documents/hackseq/data/HS0674/30CJCAAXX_4_2.fq\" contigs 2>&1 | tee abyssk$1.log\n",
    "    cat k$1/HS0674-3.fa k$1/HS0674-4.fa \\\n",
    "\t\t|PathConsensus -v --dot -k$1  -p0.9  -o k$1/HS0674-5.path\n",
    "\n",
    "    \n",
    "}\n",
    "\n",
    "foo 16\n",
    "\n"
   ]
  },
  {
   "cell_type": "code",
   "execution_count": null,
   "metadata": {
    "collapsed": true
   },
   "outputs": [],
   "source": []
  }
 ],
 "metadata": {
  "kernelspec": {
   "display_name": "Python 2",
   "language": "python",
   "name": "python2"
  },
  "language_info": {
   "codemirror_mode": {
    "name": "ipython",
    "version": 2
   },
   "file_extension": ".py",
   "mimetype": "text/x-python",
   "name": "python",
   "nbconvert_exporter": "python",
   "pygments_lexer": "ipython2",
   "version": "2.7.10"
  }
 },
 "nbformat": 4,
 "nbformat_minor": 0
}
